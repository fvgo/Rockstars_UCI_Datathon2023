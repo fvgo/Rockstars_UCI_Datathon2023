{
 "cells": [
  {
   "cell_type": "code",
   "execution_count": 1,
   "metadata": {},
   "outputs": [
    {
     "name": "stdout",
     "output_type": "stream",
     "text": [
      "TEST\n"
     ]
    }
   ],
   "source": [
    "import pandas as pd\n",
    "import numpy as np\n",
    "pa = pd.read_csv(\"player_activity.csv\")\n",
    "grouped = pa.groupby(\"platform_id\")\n",
    "\n",
    "# account_id, platform_id, date\n",
    "\n"
   ]
  },
  {
   "cell_type": "code",
   "execution_count": 3,
   "metadata": {},
   "outputs": [
    {
     "ename": "NameError",
     "evalue": "name 'df_player_statistics' is not defined",
     "output_type": "error",
     "traceback": [
      "\u001b[1;31m---------------------------------------------------------------------------\u001b[0m",
      "\u001b[1;31mNameError\u001b[0m                                 Traceback (most recent call last)",
      "\u001b[1;32mc:\\Users\\franc\\OneDrive\\Desktop\\UCI\\Fall_2023\\RockstarGamesxUCI_Datathon_16Nov2023\\UC Irvine Datathon 2023\\rockstars.ipynb Cell 2\u001b[0m line \u001b[0;36m8\n\u001b[0;32m      <a href='vscode-notebook-cell:/c%3A/Users/franc/OneDrive/Desktop/UCI/Fall_2023/RockstarGamesxUCI_Datathon_16Nov2023/UC%20Irvine%20Datathon%202023/rockstars.ipynb#W1sZmlsZQ%3D%3D?line=4'>5</a>\u001b[0m player_activity \u001b[39m=\u001b[39m pd\u001b[39m.\u001b[39mread_csv(\u001b[39m'\u001b[39m\u001b[39mplayer_activity.csv\u001b[39m\u001b[39m'\u001b[39m)\n\u001b[0;32m      <a href='vscode-notebook-cell:/c%3A/Users/franc/OneDrive/Desktop/UCI/Fall_2023/RockstarGamesxUCI_Datathon_16Nov2023/UC%20Irvine%20Datathon%202023/rockstars.ipynb#W1sZmlsZQ%3D%3D?line=6'>7</a>\u001b[0m \u001b[39m# Perform joins using merge\u001b[39;00m\n\u001b[1;32m----> <a href='vscode-notebook-cell:/c%3A/Users/franc/OneDrive/Desktop/UCI/Fall_2023/RockstarGamesxUCI_Datathon_16Nov2023/UC%20Irvine%20Datathon%202023/rockstars.ipynb#W1sZmlsZQ%3D%3D?line=7'>8</a>\u001b[0m merged_df \u001b[39m=\u001b[39m pd\u001b[39m.\u001b[39mmerge(df_player_statistics, df_item_spend, on\u001b[39m=\u001b[39m[\u001b[39m'\u001b[39m\u001b[39maccount_id\u001b[39m\u001b[39m'\u001b[39m, \u001b[39m'\u001b[39m\u001b[39mplatform_id\u001b[39m\u001b[39m'\u001b[39m, \u001b[39m'\u001b[39m\u001b[39moccur_date\u001b[39m\u001b[39m'\u001b[39m], how\u001b[39m=\u001b[39m\u001b[39m'\u001b[39m\u001b[39mleft\u001b[39m\u001b[39m'\u001b[39m)\n\u001b[0;32m     <a href='vscode-notebook-cell:/c%3A/Users/franc/OneDrive/Desktop/UCI/Fall_2023/RockstarGamesxUCI_Datathon_16Nov2023/UC%20Irvine%20Datathon%202023/rockstars.ipynb#W1sZmlsZQ%3D%3D?line=9'>10</a>\u001b[0m \u001b[39m# Left join the resulting dataframe with player_activity\u001b[39;00m\n\u001b[0;32m     <a href='vscode-notebook-cell:/c%3A/Users/franc/OneDrive/Desktop/UCI/Fall_2023/RockstarGamesxUCI_Datathon_16Nov2023/UC%20Irvine%20Datathon%202023/rockstars.ipynb#W1sZmlsZQ%3D%3D?line=10'>11</a>\u001b[0m merged_df \u001b[39m=\u001b[39m pd\u001b[39m.\u001b[39mmerge(merged_df, df_player_activity, on\u001b[39m=\u001b[39m[\u001b[39m'\u001b[39m\u001b[39maccount_id\u001b[39m\u001b[39m'\u001b[39m, \u001b[39m'\u001b[39m\u001b[39mplatform_id\u001b[39m\u001b[39m'\u001b[39m, \u001b[39m'\u001b[39m\u001b[39moccur_date\u001b[39m\u001b[39m'\u001b[39m], how\u001b[39m=\u001b[39m\u001b[39m'\u001b[39m\u001b[39mleft\u001b[39m\u001b[39m'\u001b[39m)\n",
      "\u001b[1;31mNameError\u001b[0m: name 'df_player_statistics' is not defined"
     ]
    }
   ],
   "source": [
    "import pandas as pd\n",
    "import numpy as np\n",
    "player_stats = pd.read_csv('player_statistics.csv')\n",
    "item_spend = pd.read_csv('item_spend.csv')\n",
    "player_activity = pd.read_csv('player_activity.csv')\n",
    "\n",
    "# account_id, platform_id, occur_date\n",
    "\n",
    "# Perform joins using merge\n",
    "merged_df = pd.merge(player_statistics, item_spend, on=['account_id', 'platform_id', 'occur_date'], how='left')\n",
    "\n",
    "# Left join the resulting dataframe with player_activity\n",
    "merged_df = pd.merge(merged_df, df_player_activity, on=['account_id', 'platform_id', 'occur_date'], how='left')\n",
    "merged_df"
   ]
  },
  {
   "cell_type": "code",
   "execution_count": null,
   "metadata": {},
   "outputs": [],
   "source": []
  }
 ],
 "metadata": {
  "kernelspec": {
   "display_name": "Python 3",
   "language": "python",
   "name": "python3"
  },
  "language_info": {
   "codemirror_mode": {
    "name": "ipython",
    "version": 3
   },
   "file_extension": ".py",
   "mimetype": "text/x-python",
   "name": "python",
   "nbconvert_exporter": "python",
   "pygments_lexer": "ipython3",
   "version": "3.10.1"
  }
 },
 "nbformat": 4,
 "nbformat_minor": 2
}
